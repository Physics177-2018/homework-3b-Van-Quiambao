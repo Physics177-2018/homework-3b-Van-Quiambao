{
 "cells": [
  {
   "cell_type": "markdown",
   "metadata": {},
   "source": [
    "# Homework 3b: Bessel Functions\n",
    "Physics 177, Spring 2018  \n",
    "**Due:** Tuesday, April 24\n",
    "\n",
    "*Van Quiambao*"
   ]
  },
  {
   "cell_type": "markdown",
   "metadata": {},
   "source": [
    "## 1. Simpson's Rule Integrator \n",
    "\n",
    "Write an integrator function using **Simpson's rule**. The integrator should take the following arguments:\n",
    "* A function, $f$\n",
    "* Two real numbers giving the limits of integration, $a$ and $b$\n",
    "* The number of steps $N$ to sample\n",
    "\n",
    "There are different ways of implementing Simpson's rule. Here's one example from (5.9) of Newman's *Computational Physics*:\n",
    "\n",
    "$\\displaystyle I(a,b) = \\frac{1}{3}\\Delta x\\left[ f(a) + f(b) + 4 \\sum_{k \\text{ odd}}^{N-1} f(a+k\\Delta x) + 2 \\sum_{k \\text{ even}}^{N-2} f(a+k\\Delta x) \\right]$ ,\n",
    "\n",
    "where the step size is $\\Delta x = (b-a)/N$.\n",
    "\n",
    "**Remark**: this is different from the technique that we used [in class](https://github.com/Physics177-2018/Lecture_04/blob/master/Lecture%204.ipynb)! You may use either technique, as long as it's correct. "
   ]
  },
  {
   "cell_type": "markdown",
   "metadata": {},
   "source": [
    "### 1.a) Write up the function\n",
    "\n",
    "Fill in the stub function below"
   ]
  },
  {
   "cell_type": "code",
   "execution_count": 11,
   "metadata": {},
   "outputs": [],
   "source": [
    "def integrate_HW3(function_name, lower_limit, upper_limit, Nsteps):\n",
    "    \"\"\"\n",
    "    Returns the integral using Simpson's rule\n",
    "    \"\"\"\n",
    "    delta_x = (upper_limit - lower_limit)/Nsteps\n",
    "    k = 0.0\n",
    "    x = lower_limit + delta_x\n",
    "    v = Nsteps/2 + 1\n",
    "    q = Nsteps/2\n",
    "    \n",
    "    for i in range (1, int(v)):\n",
    "        k += 4*function_name(x)\n",
    "        x += 2*delta_x\n",
    "    \n",
    "    x = lower_limit + 2*delta_x\n",
    "    for i in range (1, int(q)):\n",
    "        k += 2*function_name(x)\n",
    "        x += 2*delta_x\n",
    "    \n",
    "    return ((delta_x)/3)*(function_name(lower_limit) + function_name(upper_limit) + k)"
   ]
  },
  {
   "cell_type": "markdown",
   "metadata": {},
   "source": [
    "### 1.b Test your function\n",
    "\n",
    "Test your function using the cell below. "
   ]
  },
  {
   "cell_type": "code",
   "execution_count": 12,
   "metadata": {},
   "outputs": [
    {
     "data": {
      "text/plain": [
       "1.000000000000001"
      ]
     },
     "execution_count": 12,
     "metadata": {},
     "output_type": "execute_result"
    }
   ],
   "source": [
    "def testfun(x):\n",
    "    return 3*x**2\n",
    "\n",
    "integrate_HW3(testfun, 0, 1, 100)"
   ]
  },
  {
   "cell_type": "markdown",
   "metadata": {},
   "source": [
    "**What answer do you expect** from `integrate_HW3(testfun, 0, 1, 100)`?\n",
    "\n",
    "I expected to be close to 1, if not 1."
   ]
  },
  {
   "cell_type": "markdown",
   "metadata": {},
   "source": [
    "### 1.x) Extra credit: Consistency\n",
    "\n",
    "Prove why Newman's equation (5.9),\n",
    "\n",
    "$$\\displaystyle I(a,b) = \\frac{1}{3}\\Delta x\\left[ f(a) + f(b) + 4 \\sum_{k \\text{ odd}}^{N-1} f(a+k\\Delta x) + 2 \\sum_{k \\text{ even}}^{N-2} f(a+k\\Delta x) \\right]$$ \n",
    "\n",
    "is indeed equivalent to the Simpson's rule that we used in Lecture 4:\n",
    "\n",
    "```python\n",
    "def Simpson_Nsteps(function_name, num_steps):\n",
    "    \"\"\"Simpson rule from lower_limit to upper_limit\"\"\"\n",
    "    delta_x = (upper_limit - lower_limit)/num_steps\n",
    "    x_low = lower_limit # lower edge of trapezoid\n",
    "    total = 0.\n",
    "    \n",
    "    while x_low + 2*delta_x <= upper_limit: # see why we do this?\n",
    "        sum_of_terms = function_name(x_low) \\\n",
    "            + 4*function_name(x_low + delta_x) \\\n",
    "            + function_name(x_low + 2*delta_x)\n",
    "        total += delta_x / 3 * sum_of_terms\n",
    "        x_low = x_low + 2*delta_x\n",
    "    \n",
    "    return total\n",
    "```\n",
    "\n",
    "It may be more useful to remember that our `Simpson_Nsteps` function is based on\n",
    "$$\\left(\\text{small area}\\right)_i = \\frac{\\Delta x}{3} \\left[  f(x_i-\\Delta x) + 4f(x_i) + f(x_i+\\Delta x)\\right] \\ .$$\n",
    "You may write you answer in a markdown box below, or attach a pdf to your GitHub repository and include a link to the pdf in this notebook."
   ]
  },
  {
   "cell_type": "markdown",
   "metadata": {},
   "source": [
    "## 2. A Bessel Function\n",
    "[Adapted from Exercise 5.4 from *Computational Physics* by Newman]\n",
    "\n",
    "### Discussion\n",
    "\n",
    "Bessel functions show up all over the place in physics. The Bessel functions $J_m(x)$ are defined by\n",
    "\n",
    "$\\displaystyle J_m(x) = \\frac{1}{\\pi}\\int_0^\\pi \\cos(m\\theta - x \\sin \\theta) \\, d\\theta\\ ,$ \n",
    "\n",
    "where $m$ is a nonnegative integer and $x\\geq 0$. "
   ]
  },
  {
   "cell_type": "markdown",
   "metadata": {},
   "source": [
    "### 2.a) Code the Bessel Function\n",
    "\n",
    "Write your own version of the Bessel function by filling in the cell below."
   ]
  },
  {
   "cell_type": "code",
   "execution_count": 13,
   "metadata": {},
   "outputs": [],
   "source": [
    "from math import pi as pi\n",
    "from math import sin as sin\n",
    "from math import cos as cos\n",
    "\n",
    "def J(m,x):\n",
    "    \"\"\"\n",
    "    mth Bessel function of the first kind evaluated at real number x,  \n",
    "    calculated using an integral representation with Simpson's rule and 1000 steps\n",
    "    \"\"\"\n",
    "    \n",
    "    # Your code goes here!\n",
    "    # Use the integrate_HW2 function from Problem 1\n",
    "    \n",
    "    # It may be useful to define a local function for the integrand\n",
    "    def integrand(theta):\n",
    "        return cos(m*(theta) - x*sin(theta)) # FIX THIS LINE\n",
    "    \n",
    "    return (1/pi)*integrate_HW3(integrand, 0, pi, 1000) # change this!"
   ]
  },
  {
   "cell_type": "code",
   "execution_count": 14,
   "metadata": {},
   "outputs": [
    {
     "name": "stdout",
     "output_type": "stream",
     "text": [
      "0.4400505857449227\n"
     ]
    }
   ],
   "source": [
    "print(J(1,1))"
   ]
  },
  {
   "cell_type": "markdown",
   "metadata": {},
   "source": [
    "### 2.b) Test your Bessel Function\n",
    "\n",
    "Test your Bessel function in the following cell: "
   ]
  },
  {
   "cell_type": "code",
   "execution_count": 15,
   "metadata": {},
   "outputs": [
    {
     "name": "stdout",
     "output_type": "stream",
     "text": [
      "0.4400505857449227\n"
     ]
    }
   ],
   "source": [
    "print(J(1,1))"
   ]
  },
  {
   "cell_type": "markdown",
   "metadata": {},
   "source": [
    "The correct answer is $J_1(1)=0.440051$."
   ]
  },
  {
   "cell_type": "markdown",
   "metadata": {},
   "source": [
    "### 2.c) Plot the Bessel Function\n",
    "\n",
    "In this problem we'll use Numpy to **vectorize** our Bessel function so that we can feed it a Numpy array of $x$-values and output a Numpy array of $y$-values. You can read more about vectorizing [here](https://docs.scipy.org/doc/numpy-1.10.0/reference/generated/numpy.vectorize.html).\n",
    "\n",
    "For our purposes, it may be useful to just demonstrate an example. Run the following cell."
   ]
  },
  {
   "cell_type": "code",
   "execution_count": 16,
   "metadata": {},
   "outputs": [
    {
     "name": "stdout",
     "output_type": "stream",
     "text": [
      "x is an array:\n",
      "[1. 2. 3. 4.]\n",
      "\n",
      "check these out:\n",
      "[1. 2. 3. 4.]\n",
      "[ 1.  4.  9. 16.]\n",
      "[ 1.  8. 27. 64.]\n",
      "[  1.  16.  81. 256.]\n"
     ]
    }
   ],
   "source": [
    "# EXAMPLE OF HOW TO USE VECTORIZE\n",
    "import numpy as np\n",
    "\n",
    "def my_function(x,m):\n",
    "    \"\"\"raises x to the power m\"\"\"\n",
    "    return x**m\n",
    "\n",
    "# Now I'd like to apply this to a Numpy array.\n",
    "# But this function doesn't know how to handle arrays.\n",
    "# Let's vectorize it.\n",
    "\n",
    "my_vectorized_function = np.vectorize(my_function)\n",
    "\n",
    "# Here's how we can use this:\n",
    "x = np.linspace(1,4,4)\n",
    "\n",
    "print(\"x is an array:\")\n",
    "print(x)\n",
    "print(\"\")\n",
    "\n",
    "# Update 4/22: replaced \"my_function\" with \"my_vectorized_function\"\n",
    "print(\"check these out:\")\n",
    "print(my_vectorized_function(x,1))\n",
    "print(my_vectorized_function(x,2))\n",
    "print(my_vectorized_function(x,3))\n",
    "print(my_vectorized_function(x,4))"
   ]
  },
  {
   "cell_type": "markdown",
   "metadata": {},
   "source": [
    "**Remark 4/22**: Stephen has pointed out that the original code had a typo: `print(my_function(x,1))` instead of `print(my_vectorized_function(x,1))`. He also observed that `my_function` is simple enough that it doesn't have to be vectorized to accept numpy arrays. +1 for house Stephen."
   ]
  },
  {
   "cell_type": "markdown",
   "metadata": {},
   "source": [
    "Observe that `np.vectorize` takes a function and outputs another function that can take arrays. There's something even more powerful here: `my_function` takes in *two* arguments. `np.vectorize(my_function)` accepts arrays in both. This means that we can use the following construction. Suppose `x` is a list of sample points for a function $f(a,x)$. Then to get a list of `y` values for a given value of $a$:\n",
    "\n",
    "```python\n",
    "\n",
    "# Where f is a function that takes two variables, f(index, x)\n",
    "f_vec = np.vectorize(f)\n",
    "\n",
    "x = np.linspace(min_value, max_value, length_of_array)\n",
    "a = 1\n",
    "\n",
    "y = f_vec(a, x)\n",
    "```\n",
    "\n",
    "Now `x` and `y` can be used to make a plot, as you did in Homework 3a.\n",
    "\n",
    "**Your job in this problem** is to fill in the following code to produce plots of $J_0(x)$, $J_1(x)$ and $J_2(x)$ in matplotlib."
   ]
  },
  {
   "cell_type": "code",
   "execution_count": 23,
   "metadata": {},
   "outputs": [
    {
     "data": {
      "image/png": "[encoded data removed]",
      "text/plain": [
       "<Figure size 432x288 with 1 Axes>"
      ]
     },
     "metadata": {},
     "output_type": "display_data"
    }
   ],
   "source": [
    "import matplotlib.pyplot as plt\n",
    "import numpy as np\n",
    "\n",
    "# x sample points\n",
    "x = np.linspace(0,10,100)\n",
    "\n",
    "# vectorize the J function\n",
    "J_numpy = np.vectorize(J) # FILL THIS IN\n",
    "\n",
    "y0 = J_numpy(0, x)# FILL THIS IN, y-values of J0(x)\n",
    "y1 = J_numpy(1, x)# FILL THIS IN, y-values of J1(x)\n",
    "y2 = J_numpy(2, x)# FILL THIS IN, y-values of J2(x)\n",
    "\n",
    "plt.plot(x, \n",
    "         y0,\n",
    "         label='$J_0(x)$')\n",
    "\n",
    "plt.plot(x, \n",
    "         y1,# FILL THIS IN\n",
    "         label='$J_1(x)$')\n",
    "\n",
    "plt.plot(x, \n",
    "         y2,# FILL THIS IN\n",
    "         label='$J_2(x)$')\n",
    "\n",
    "plt.title(\"Some Bessel Functions\")\n",
    "plt.legend()\n",
    "plt.show()\n"
   ]
  },
  {
   "cell_type": "code",
   "execution_count": null,
   "metadata": {},
   "outputs": [],
   "source": []
  }
 ],
 "metadata": {
  "kernelspec": {
   "display_name": "Python 3",
   "language": "python",
   "name": "python3"
  },
  "language_info": {
   "codemirror_mode": {
    "name": "ipython",
    "version": 3
   },
   "file_extension": ".py",
   "mimetype": "text/x-python",
   "name": "python",
   "nbconvert_exporter": "python",
   "pygments_lexer": "ipython3",
   "version": "3.6.4"
  }
 },
 "nbformat": 4,
 "nbformat_minor": 2
}
